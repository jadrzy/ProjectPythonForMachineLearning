{
  "nbformat": 4,
  "nbformat_minor": 0,
  "metadata": {
    "colab": {
      "provenance": [],
      "authorship_tag": "ABX9TyNcDwxJCzvr0klzGSMErem3",
      "include_colab_link": true
    },
    "kernelspec": {
      "name": "python3",
      "display_name": "Python 3"
    },
    "language_info": {
      "name": "python"
    }
  },
  "cells": [
    {
      "cell_type": "markdown",
      "metadata": {
        "id": "view-in-github",
        "colab_type": "text"
      },
      "source": [
        "<a href=\"https://colab.research.google.com/github/jadrzy/ProjectPythonForMachineLearning/blob/main/Classification.ipynb\" target=\"_parent\"><img src=\"https://colab.research.google.com/assets/colab-badge.svg\" alt=\"Open In Colab\"/></a>"
      ]
    },
    {
      "cell_type": "markdown",
      "source": [
        "# **Import and data divison**"
      ],
      "metadata": {
        "id": "5EsPpJa27rok"
      }
    },
    {
      "cell_type": "code",
      "execution_count": 25,
      "metadata": {
        "colab": {
          "base_uri": "https://localhost:8080/"
        },
        "id": "Cz8i_Rgp7ZXR",
        "outputId": "f3b22c76-e0d7-4496-98df-fe544123fdae"
      },
      "outputs": [
        {
          "output_type": "stream",
          "name": "stdout",
          "text": [
            "fatal: destination path 'PythonForMachineLearning' already exists and is not an empty directory.\n"
          ]
        }
      ],
      "source": [
        "import seaborn as sns\n",
        "from time import time\n",
        "import matplotlib.pyplot as plt\n",
        "import pandas as pd\n",
        "from sklearn.model_selection import train_test_split\n",
        "from sklearn.preprocessing import (\n",
        "MinMaxScaler,\n",
        "StandardScaler,\n",
        ")\n",
        "\n",
        "!git clone https://{token}@github.com/jadrzy/PythonForMachineLearning.git\n",
        "\n",
        "model_data = pd.read_csv(\"/content/PythonForMachineLearning/datasets/model_data.csv\")\n",
        "analize_data = pd.read_csv(\"/content/PythonForMachineLearning/datasets/analyze_data.csv\")\n",
        "\n",
        "analyze_data = analize_data.drop(['ID'], axis=1)\n",
        "model_data = model_data.drop(['ID'], axis=1)\n",
        "\n",
        "selected_model_data = model_data.copy()\n",
        "selected_model_data = selected_model_data.loc[:, ~model_data.columns.str.startswith('Ethnicity')].drop(['Semeron', 'Country_Australia', 'Country_Canada', 'Country_New Zealand', 'Country_Other', 'Country_Republic of Ireland', 'Alcohol', 'Caffeine', 'Chocolate'], axis=1)\n",
        "\n",
        "X1= selected_model_data.drop(['Age', 'Gender', 'Education', 'Neuroticism', 'Extraversion',\n",
        "       'Openness to experience', 'Agreeableness', 'Conscientiousness',\n",
        "       'Impulsiveness', 'Sensation seeking', 'Country_UK', 'Country_USA'], axis=1)\n",
        "\n",
        "X2= selected_model_data.drop(['Cocaine', 'Crack', 'Ecstasy', 'Heroin',\n",
        "       'Ketamine', 'Legal highs', 'LSD', 'Meth', 'Mushrooms', 'Nicotine',\n",
        "       'Volatile substance abuse'], axis=1)\n",
        "\n",
        "y= selected_model_data['Cannabis']\n",
        "\n",
        "X_train, X_test, y_train, y_test= train_test_split(X2, y, test_size=0.4,random_state=1 )\n",
        "X_valid, X_test, y_valid, y_test= train_test_split(X_test, y_test, test_size=0.5,random_state=1 )\n",
        "\n"
      ]
    },
    {
      "cell_type": "markdown",
      "source": [
        "# **Classifiction for drugs**"
      ],
      "metadata": {
        "id": "DudFJEux8hyy"
      }
    },
    {
      "cell_type": "markdown",
      "source": [
        "## Logistic Regression"
      ],
      "metadata": {
        "id": "WX4A7JzC-8He"
      }
    },
    {
      "cell_type": "code",
      "source": [
        "from sklearn.metrics import accuracy_score\n",
        "from sklearn.linear_model import LogisticRegression\n",
        "\n",
        "X_train, X_test, y_train, y_test= train_test_split(X2, y, test_size=0.4,random_state=1 )\n",
        "X_valid, X_test, y_valid, y_test= train_test_split(X_test, y_test, test_size=0.5,random_state=1 )\n",
        "\n",
        "y_train = X_train['Cannabis'] == 3\n",
        "y_valid = X_valid['Cannabis'] == 3\n",
        "\n",
        "X_train = X_train.drop(columns=['Cannabis'])\n",
        "X_valid = X_valid.drop(columns=['Cannabis'])\n",
        "\n",
        "clf = LogisticRegression(max_iter=1000)\n",
        "clf.fit(X_train, y_train)\n",
        "\n",
        "y_pred_train = clf.predict(X_train)\n",
        "y_pred = clf.predict(X_valid)\n",
        "\n",
        "acc_train = accuracy_score(y_train, y_pred_train)\n",
        "acc_val = accuracy_score(y_valid, y_pred)\n",
        "\n",
        "print(f'Accuracy on train set for Cannabis: {acc_train}')\n",
        "print(f'Accuracy on validation set for Cannabis: {acc_val}')"
      ],
      "metadata": {
        "colab": {
          "base_uri": "https://localhost:8080/"
        },
        "id": "AbtIc4jt8zeS",
        "outputId": "c7315e11-1191-480d-da6a-a86e33271d3e"
      },
      "execution_count": 43,
      "outputs": [
        {
          "output_type": "stream",
          "name": "stdout",
          "text": [
            "Accuracy on train set for Cannabis: 0.8884955752212389\n",
            "Accuracy on validation set for Cannabis: 0.8753315649867374\n"
          ]
        }
      ]
    }
  ]
}