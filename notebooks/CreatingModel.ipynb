{
  "nbformat": 4,
  "nbformat_minor": 0,
  "metadata": {
    "colab": {
      "provenance": [],
      "authorship_tag": "ABX9TyP5XpRl8IfyPkuV2WoDChg2",
      "include_colab_link": true
    },
    "kernelspec": {
      "name": "python3",
      "display_name": "Python 3"
    },
    "language_info": {
      "name": "python"
    }
  },
  "cells": [
    {
      "cell_type": "markdown",
      "metadata": {
        "id": "view-in-github",
        "colab_type": "text"
      },
      "source": [
        "<a href=\"https://colab.research.google.com/github/jadrzy/ProjectPythonForMachineLearning/blob/main/notebooks/CreatingModel.ipynb\" target=\"_parent\"><img src=\"https://colab.research.google.com/assets/colab-badge.svg\" alt=\"Open In Colab\"/></a>"
      ]
    },
    {
      "cell_type": "code",
      "source": [
        "# SETUP REPOSITORY\n",
        "!git clone https://{token}@github.com/jadrzy/PythonForMachineLearning.git"
      ],
      "metadata": {
        "id": "py_VInXGdj1A"
      },
      "execution_count": null,
      "outputs": []
    },
    {
      "cell_type": "code",
      "source": [
        "import matplotlib.pyplot as plt5\n",
        "import seaborn as sns\n",
        "from time import time\n",
        "from sklearn.model_selection import train_test_split\n",
        "import seaborn as sns\n",
        "import matplotlib.pyplot as plt\n",
        "import pandas as pd\n",
        "\n",
        "model_data = pd.read_csv(\"/content/PythonForMachineLearning/datasets/model_data.csv\")\n",
        "analize_data = pd.read_csv(\"/content/PythonForMachineLearning/datasets/analyze_data.csv\")\n",
        "\n",
        "print(model_data.columns.unique())\n",
        "\n",
        "analyze_data = analize_data.drop(['ID'], axis=1)\n",
        "model_data = model_data.drop(['ID'], axis=1)"
      ],
      "metadata": {
        "id": "HQawob40fZmm"
      },
      "execution_count": null,
      "outputs": []
    },
    {
      "cell_type": "code",
      "execution_count": null,
      "metadata": {
        "id": "ojyZeBrjdhJB"
      },
      "outputs": [],
      "source": [
        "selected_model_data = model_data.copy()\n",
        "selected_model_data = selected_model_data.loc[:, ~model_data.columns.str.startswith('Ethnicity')].drop(['Semeron', 'Country_Australia', 'Country_Canada', 'Country_New Zealand', 'Country_Other', 'Country_Republic of Ireland', 'Alcohol', 'Caffeine', 'Chocolate'], axis=1)\n",
        "\n",
        "selected_corr = selected_model_data.corr()\n",
        "plt.figure(figsize=(35, 20))\n",
        "sns.heatmap(selected_corr, cmap = 'coolwarm', annot = True, annot_kws={'size': 12})\n",
        "plt.title('Correlation heatmap', fontsize=30, fontweight='bold')\n",
        "plt.tick_params(axis='both', labelsize=20)\n",
        "plt.show()"
      ]
    }
  ]
}